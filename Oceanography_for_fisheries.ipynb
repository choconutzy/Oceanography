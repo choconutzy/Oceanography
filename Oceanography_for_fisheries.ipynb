{
  "cells": [
    {
      "cell_type": "markdown",
      "metadata": {
        "id": "view-in-github",
        "colab_type": "text"
      },
      "source": [
        "<a href=\"https://colab.research.google.com/github/choconutzy/Oceanography/blob/master/Oceanography_for_fisheries.ipynb\" target=\"_parent\"><img src=\"https://colab.research.google.com/assets/colab-badge.svg\" alt=\"Open In Colab\"/></a>"
      ]
    },
    {
      "cell_type": "code",
      "source": [
        "!pip install rasterio numpy pandas matplotlib"
      ],
      "metadata": {
        "id": "JC4kjikdGSHA",
        "outputId": "191e5bab-ab93-4ab4-917d-96ab9afa0d1d",
        "colab": {
          "base_uri": "https://localhost:8080/"
        }
      },
      "execution_count": 71,
      "outputs": [
        {
          "output_type": "stream",
          "name": "stdout",
          "text": [
            "Looking in indexes: https://pypi.org/simple, https://us-python.pkg.dev/colab-wheels/public/simple/\n",
            "Requirement already satisfied: rasterio in /usr/local/lib/python3.10/dist-packages (1.3.6)\n",
            "Requirement already satisfied: numpy in /usr/local/lib/python3.10/dist-packages (1.22.4)\n",
            "Requirement already satisfied: pandas in /usr/local/lib/python3.10/dist-packages (1.5.3)\n",
            "Requirement already satisfied: matplotlib in /usr/local/lib/python3.10/dist-packages (3.7.1)\n",
            "Requirement already satisfied: affine in /usr/local/lib/python3.10/dist-packages (from rasterio) (2.4.0)\n",
            "Requirement already satisfied: attrs in /usr/local/lib/python3.10/dist-packages (from rasterio) (23.1.0)\n",
            "Requirement already satisfied: certifi in /usr/local/lib/python3.10/dist-packages (from rasterio) (2022.12.7)\n",
            "Requirement already satisfied: click>=4.0 in /usr/local/lib/python3.10/dist-packages (from rasterio) (8.1.3)\n",
            "Requirement already satisfied: cligj>=0.5 in /usr/local/lib/python3.10/dist-packages (from rasterio) (0.7.2)\n",
            "Requirement already satisfied: snuggs>=1.4.1 in /usr/local/lib/python3.10/dist-packages (from rasterio) (1.4.7)\n",
            "Requirement already satisfied: click-plugins in /usr/local/lib/python3.10/dist-packages (from rasterio) (1.1.1)\n",
            "Requirement already satisfied: setuptools in /usr/local/lib/python3.10/dist-packages (from rasterio) (67.7.2)\n",
            "Requirement already satisfied: python-dateutil>=2.8.1 in /usr/local/lib/python3.10/dist-packages (from pandas) (2.8.2)\n",
            "Requirement already satisfied: pytz>=2020.1 in /usr/local/lib/python3.10/dist-packages (from pandas) (2022.7.1)\n",
            "Requirement already satisfied: contourpy>=1.0.1 in /usr/local/lib/python3.10/dist-packages (from matplotlib) (1.0.7)\n",
            "Requirement already satisfied: cycler>=0.10 in /usr/local/lib/python3.10/dist-packages (from matplotlib) (0.11.0)\n",
            "Requirement already satisfied: fonttools>=4.22.0 in /usr/local/lib/python3.10/dist-packages (from matplotlib) (4.39.3)\n",
            "Requirement already satisfied: kiwisolver>=1.0.1 in /usr/local/lib/python3.10/dist-packages (from matplotlib) (1.4.4)\n",
            "Requirement already satisfied: packaging>=20.0 in /usr/local/lib/python3.10/dist-packages (from matplotlib) (23.1)\n",
            "Requirement already satisfied: pillow>=6.2.0 in /usr/local/lib/python3.10/dist-packages (from matplotlib) (8.4.0)\n",
            "Requirement already satisfied: pyparsing>=2.3.1 in /usr/local/lib/python3.10/dist-packages (from matplotlib) (3.0.9)\n",
            "Requirement already satisfied: six>=1.5 in /usr/local/lib/python3.10/dist-packages (from python-dateutil>=2.8.1->pandas) (1.16.0)\n"
          ]
        }
      ]
    },
    {
      "cell_type": "code",
      "source": [
        "import rasterio"
      ],
      "metadata": {
        "id": "UwVpAtwYGXOW"
      },
      "execution_count": 2,
      "outputs": []
    },
    {
      "cell_type": "code",
      "source": [
        "import rasterio\n",
        "\n",
        "# Open the TIFF file\n",
        "tiff_file = \"/content/djf_2022.tif\"\n",
        "dataset = rasterio.open(tiff_file)\n",
        "\n",
        "# Read the sea surface temperature data\n",
        "sst_data = dataset.read(1)  # Assuming the temperature data is in the first band (band index 1)\n",
        "\n",
        "# Calculate the mean, maximum, and minimum values\n",
        "print(dataset)\n",
        "sst_mean = sst_data.mean()\n",
        "sst_max = sst_data.max()\n",
        "sst_min = sst_data.min()\n",
        "\n",
        "# Print the results\n",
        "print(\"Mean SST:\", sst_mean)\n",
        "print(\"Max SST:\", sst_max)\n",
        "print(\"Min SST:\", sst_min)\n",
        "\n",
        "# Close the dataset\n",
        "dataset.close()\n"
      ],
      "metadata": {
        "id": "tRPMl3_4GQuQ",
        "outputId": "229b6910-9c5f-4d8b-dbea-4ac71b2eb5f2",
        "colab": {
          "base_uri": "https://localhost:8080/"
        }
      },
      "execution_count": 46,
      "outputs": [
        {
          "output_type": "stream",
          "name": "stdout",
          "text": [
            "<open DatasetReader name='/content/djf_2022.tif' mode='r'>\n",
            "Mean SST: -inf\n",
            "Max SST: 32.018333\n",
            "Min SST: -3.402823e+38\n"
          ]
        },
        {
          "output_type": "stream",
          "name": "stderr",
          "text": [
            "/usr/local/lib/python3.10/dist-packages/numpy/core/_methods.py:179: RuntimeWarning: overflow encountered in reduce\n",
            "  ret = umr_sum(arr, axis, dtype, out, keepdims, where=where)\n"
          ]
        }
      ]
    },
    {
      "cell_type": "code",
      "source": [
        "import rasterio\n",
        "import numpy as np\n",
        "\n",
        "# Open the raster file\n",
        "raster_file = \"/content/djf_2022.tif\"\n",
        "dataset = rasterio.open(raster_file)\n",
        "\n",
        "# Read the raster data\n",
        "raster_data = dataset.read(1)  # Assuming the data is in the first band (band index 1)\n",
        "\n",
        "# Get the geospatial transform and convert it to pixel coordinates\n",
        "transform = dataset.transform\n",
        "rows, cols = np.indices(raster_data.shape)\n",
        "px, py = transform * (cols, rows)\n",
        "\n",
        "# Convert pixel coordinates to geographic coordinates\n",
        "gx, gy = dataset.xy(py.flatten(), px.flatten())\n",
        "\n",
        "# Create points\n",
        "points = [(x, y) for x, y in zip(gx, gy)]\n",
        "\n",
        "# Print the first few points\n",
        "for point in points[:10]:\n",
        "    print(point)\n",
        "\n",
        "# Close the dataset\n",
        "dataset.close()\n"
      ],
      "metadata": {
        "id": "PbZiFSQiJfjk",
        "outputId": "f10a7af3-e829-4c99-cd96-3861855c6867",
        "colab": {
          "base_uri": "https://localhost:8080/"
        }
      },
      "execution_count": 15,
      "outputs": [
        {
          "output_type": "stream",
          "name": "stdout",
          "text": [
            "| 0.04, 0.00, 109.02|\n",
            "| 0.00,-0.04,-7.78|\n",
            "| 0.00, 0.00, 1.00|\n",
            "(113.57290246287839, -7.4761933783711525)\n",
            "(113.57463302328041, -7.4761933783711525)\n",
            "(113.57636358368244, -7.4761933783711525)\n",
            "(113.57809414408446, -7.4761933783711525)\n",
            "(113.57982470448648, -7.4761933783711525)\n",
            "(113.5815552648885, -7.4761933783711525)\n",
            "(113.58328582529052, -7.4761933783711525)\n",
            "(113.58501638569254, -7.4761933783711525)\n",
            "(113.58674694609456, -7.4761933783711525)\n",
            "(113.58847750649659, -7.4761933783711525)\n"
          ]
        }
      ]
    },
    {
      "cell_type": "code",
      "source": [
        "import rasterio\n",
        "import numpy as np\n",
        "import pandas as pd\n",
        "import matplotlib.pyplot as plt\n",
        "\n",
        "\n",
        "import os\n",
        "\n",
        "folder_path = \"/content/sst/seasonal\"\n",
        "\n",
        "data = {\n",
        "    \"DJF\": \"\",\n",
        "    \"JJA\" : \"\",\n",
        "    \"MAM\" : \"\",\n",
        "    \"SON\" : \"\",\n",
        "}\n",
        "sst_data_seasonal = []\n",
        "\n",
        "# Iterate over files in the folder\n",
        "for file_name in os.listdir(folder_path):\n",
        "    file_path = os.path.join(folder_path, file_name)\n",
        "    \n",
        "    # Check if the file is a regular file\n",
        "    if os.path.isfile(file_path):\n",
        "        # # Perform operations on the file\n",
        "        # Open the SST TIFF file\n",
        "        sst_tiff_file = file_path\n",
        "        dataset = rasterio.open(sst_tiff_file)\n",
        "\n",
        "        # Read the SST data\n",
        "        sst_data = dataset.read(1)  # Assuming the temperature data is in the first band (band index 1)\n",
        "\n",
        "        # Get the geospatial transform and convert it to pixel coordinates\n",
        "        transform = dataset.transform\n",
        "        rows, cols = np.indices(sst_data.shape)\n",
        "        px, py = transform * (cols, rows)\n",
        "\n",
        "        # Convert pixel coordinates to geographic coordinates\n",
        "        gx, gy = dataset.xy(py.flatten(), px.flatten())\n",
        "\n",
        "        # Create points with SST values\n",
        "        sst_rtopoint = [[x,y,sst] for x, y, sst in zip(gx, gy, sst_data.flatten()) if sst>0]\n",
        "\n",
        "        sst_rtopoint = pd.DataFrame(data= sst_rtopoint, columns=['x', 'y', 'sst'])\n",
        "        fname = file_name.split('.')[0]\n",
        "        sst_data_seasonal.append([fname, sst_rtopoint['sst'].max(), sst_rtopoint['sst'].min(), sst_rtopoint['sst'].mean()])\n",
        "        data[fname] = sst_rtopoint['sst'].dropna()\n",
        "\n",
        "result_sst_rtopoint = pd.DataFrame(data).dropna()\n",
        "result_sst_rtopoint.to_csv(path_or_buf='/content/result/result_sst_rtopoint.csv')\n",
        "summary_sst_rtopoint = pd.DataFrame(data=sst_data_seasonal, columns=['Musim', 'Maximum', 'Minimum', 'Rata-rata'])\n",
        "summary_sst_rtopoint.to_csv(path_or_buf='/content/result/summary_sst_rtopoint.csv')\n",
        "# Create a boxplot from the DataFrame\n",
        "plt.boxplot(result_sst_rtopoint.values, labels=result_sst_rtopoint.columns)\n",
        "\n",
        "# Set the plot title and axis labels\n",
        "# plt.title(\"Boxplot Suhu Permukaan Laut\")\n",
        "plt.xlabel(\"Musim\")\n",
        "plt.ylabel(\"Suhu Permukaan Laut (oC)\")\n",
        "\n",
        "# Display the plot\n",
        "plt.show()\n",
        "\n",
        "# Close the dataset\n",
        "dataset.close()\n"
      ],
      "metadata": {
        "id": "alLuqBDMKBLv",
        "outputId": "7d82441c-b895-4ba8-c82b-8465a62dcd70",
        "colab": {
          "base_uri": "https://localhost:8080/",
          "height": 449
        }
      },
      "execution_count": 96,
      "outputs": [
        {
          "output_type": "display_data",
          "data": {
            "text/plain": [
              "<Figure size 640x480 with 1 Axes>"
            ],
            "image/png": "[encoded data removed]"
          },
          "metadata": {}
        }
      ]
    },
    {
      "cell_type": "code",
      "source": [
        "import pandas as pd\n",
        "import rasterio\n",
        "\n",
        "# Open the SST TIFF file\n",
        "sst_tiff_file = \"/content/djf_2022.tif\"\n",
        "dataset = rasterio.open(sst_tiff_file)\n",
        "\n",
        "# Read the coordinate data from the CSV file\n",
        "coordinate_file = \"/content/djf_2022.csv\"\n",
        "coordinates = pd.read_csv(coordinate_file)\n",
        "\n",
        "# Get the column names for x and y coordinates in the CSV file\n",
        "x_column = \"x\"  # Replace with the actual column name for x-coordinate\n",
        "y_column = \"y\"  # Replace with the actual column name for y-coordinate\n",
        "\n",
        "# Create an empty list to store the SST values at the coordinates\n",
        "sst_values = []\n",
        "# Iterate over the coordinates and extract the corresponding SST values\n",
        "for _, row in coordinates.iterrows():\n",
        "\n",
        "    x = float(row[0].split(\";\")[3])\n",
        "    y = float(row[0].split(\";\")[4])\n",
        "\n",
        "    # Convert x, y coordinates to pixel coordinates\n",
        "    px, py = dataset.index(x, y)\n",
        "\n",
        "    # Read the SST value at the pixel coordinates\n",
        "    sst_value = dataset.read(1, window=((py, py + 1), (px, px + 1)))\n",
        "\n",
        "    # Append the SST value to the list\n",
        "    sst_values.append(sst_value[0][0])\n",
        "\n",
        "# Print the SST values\n",
        "print(sst_values)\n",
        "\n",
        "# Close the dataset\n",
        "dataset.close()\n"
      ],
      "metadata": {
        "id": "jSwLWcHSLcXE",
        "outputId": "b1400ff1-3565-40d6-e749-0a317a47021b",
        "colab": {
          "base_uri": "https://localhost:8080/"
        }
      },
      "execution_count": 89,
      "outputs": [
        {
          "output_type": "stream",
          "name": "stdout",
          "text": [
            "[29.255, 29.69333, 29.664999, 29.381668, 28.501665, 29.01, 28.934998, 29.104998, 29.018333, 29.005, 29.005, 28.851667, 28.625, 28.934998, 29.005, 29.493332, 29.230001, 29.458334, 29.458334, 29.230001, 29.199999, 29.073334, 29.073334, 29.353333, 29.196665, 29.341667, 28.835001, 29.406668, 29.695, 29.118332, 29.01333, 29.01333, 29.01333, 29.01333]\n"
          ]
        }
      ]
    },
    {
      "cell_type": "code",
      "source": [
        "import pandas as pd\n",
        "import matplotlib.pyplot as plt\n",
        "\n",
        "# Create a sample DataFrame\n",
        "data = {\n",
        "    'Group 1': [10, 15, 20, 25, 30],\n",
        "    'Group 2': [5, 12, 18, 22, 28],\n",
        "    'Group 3': [8, 10, 12, 16, 20]\n",
        "}\n",
        "df = pd.DataFrame(data)\n",
        "\n",
        "# Create a boxplot from the DataFrame\n",
        "plt.boxplot(df.values, labels=df.columns)\n",
        "\n",
        "# Set the plot title and axis labels\n",
        "plt.title(\"Boxplot Example\")\n",
        "plt.xlabel(\"Groups\")\n",
        "plt.ylabel(\"Values\")\n",
        "\n",
        "# Display the plot\n",
        "plt.show()\n"
      ],
      "metadata": {
        "id": "BQvxSakGmBPT",
        "outputId": "a1183d5f-5ac1-4c41-ad18-23fa8576ec2a",
        "colab": {
          "base_uri": "https://localhost:8080/",
          "height": 472
        }
      },
      "execution_count": 66,
      "outputs": [
        {
          "output_type": "display_data",
          "data": {
            "text/plain": [
              "<Figure size 640x480 with 1 Axes>"
            ],
            "image/png": "[encoded data removed]"
          },
          "metadata": {}
        }
      ]
    }
  ],
  "metadata": {
    "colab": {
      "name": "Welcome To Colaboratory",
      "provenance": [],
      "include_colab_link": true
    },
    "kernelspec": {
      "display_name": "Python 3",
      "name": "python3"
    }
  },
  "nbformat": 4,
  "nbformat_minor": 0
}